{
 "cells": [
  {
   "cell_type": "markdown",
   "source": [
    "# Validation of Basic Hypotheses"
   ],
   "metadata": {
    "collapsed": false
   }
  },
  {
   "cell_type": "code",
   "execution_count": 1,
   "outputs": [],
   "source": [
    "import os\n",
    "from dotenv import load_dotenv\n",
    "\n",
    "import pymongo\n",
    "import spacy"
   ],
   "metadata": {
    "collapsed": false
   }
  },
  {
   "cell_type": "code",
   "execution_count": 2,
   "outputs": [],
   "source": [
    "#nlp = spacy.load(\"en_core_web_trf\")\n",
    "nlp = spacy.load(\"../models/en_core_sci_lg-0.5.1/en_core_sci_lg/en_core_sci_lg-0.5.1\")"
   ],
   "metadata": {
    "collapsed": false
   }
  },
  {
   "cell_type": "code",
   "execution_count": 3,
   "outputs": [
    {
     "data": {
      "text/plain": "True"
     },
     "execution_count": 3,
     "metadata": {},
     "output_type": "execute_result"
    }
   ],
   "source": [
    "load_dotenv()"
   ],
   "metadata": {
    "collapsed": false
   }
  },
  {
   "cell_type": "code",
   "execution_count": 4,
   "outputs": [],
   "source": [
    "db_client = pymongo.MongoClient(os.environ.get(\"mongodb_connection_string\"))\n",
    "database = db_client[\"pubmed\"]\n",
    "collection = database[\"abstracts\"]"
   ],
   "metadata": {
    "collapsed": false
   }
  },
  {
   "cell_type": "code",
   "execution_count": 5,
   "outputs": [],
   "source": [
    "cursor = collection.find()"
   ],
   "metadata": {
    "collapsed": false
   }
  },
  {
   "cell_type": "code",
   "execution_count": 6,
   "outputs": [],
   "source": [
    "doc = nlp(cursor.next()['abstract'])"
   ],
   "metadata": {
    "collapsed": false
   }
  },
  {
   "cell_type": "code",
   "execution_count": 7,
   "outputs": [],
   "source": [
    "doc = nlp(\"this is a sentence containing new york city\")"
   ],
   "metadata": {
    "collapsed": false
   }
  },
  {
   "cell_type": "code",
   "execution_count": 8,
   "outputs": [
    {
     "name": "stdout",
     "output_type": "stream",
     "text": [
      "components 51 61 ENTITY\n",
      "native 85 91 ENTITY\n",
      "beta 92 96 ENTITY\n",
      "Des(His-146 101 112 ENTITY\n",
      "beta chains 123 134 ENTITY\n",
      "isoelectric 145 156 ENTITY\n",
      "agarose gels 169 181 ENTITY\n",
      "pH 183 185 ENTITY\n",
      "tetramer-monomer system 215 238 ENTITY\n",
      "beta chains 242 253 ENTITY\n",
      "separation 266 276 ENTITY\n",
      "components 286 296 ENTITY\n",
      "tetramer 298 306 ENTITY\n",
      "dimer 308 313 ENTITY\n",
      "monomer 318 325 ENTITY\n",
      "Des(His-146 340 351 ENTITY\n",
      "beta chains 362 373 ENTITY\n",
      "indicative 374 384 ENTITY\n",
      "oligomeric 391 401 ENTITY\n",
      "dimer species 438 451 ENTITY\n",
      "Protein dilution 453 469 ENTITY\n",
      "heme 493 497 ENTITY\n",
      "amplified 499 508 ENTITY\n",
      "cathodic 518 526 ENTITY\n",
      "dimeric 539 546 ENTITY\n",
      "monomeric 551 560 ENTITY\n",
      "components 562 572 ENTITY\n",
      "chains 582 588 ENTITY\n",
      "titration 594 603 ENTITY\n",
      "partner alpha chains 609 629 ENTITY\n",
      "depletion 654 663 ENTITY\n",
      "monomer 671 678 ENTITY\n",
      "cathodic 685 693 ENTITY\n",
      "quantitatively 720 734 ENTITY\n",
      "correlated 735 745 ENTITY\n",
      "assembly 751 759 ENTITY\n",
      "hemoglobin tetramer 767 786 ENTITY\n"
     ]
    }
   ],
   "source": [
    "doc = nlp(cursor.next()['abstract'])\n",
    "for ent in doc.ents:\n",
    "    print(ent.text, ent.start_char, ent.end_char, ent.label_)"
   ],
   "metadata": {
    "collapsed": false
   }
  },
  {
   "cell_type": "code",
   "execution_count": 9,
   "outputs": [
    {
     "name": "stdout",
     "output_type": "stream",
     "text": [
      "A broad beta chain band region containing multiple components was observed with both native beta and Des(His-146, Tyr-145) beta chains following isoelectric focusing on agarose gels (pH 6.0-8.0). In contrast to the tetramer-monomer system of beta chains, a distinct separation of three components (tetramer, dimer and monomer) was seen for Des(His-146, Tyr-145) beta chains indicative of an oligomeric structural beta model with a stable dimer species. Protein dilution (500 to 15.6 microM in heme) amplified the more cathodic (presumably dimeric and monomeric) components of these chains, and titration with partner alpha chains resulted in a selective depletion of the monomer (most cathodic) component which could be quantitatively correlated with assembly of the hemoglobin tetramer.\n"
     ]
    }
   ],
   "source": [
    "print(doc)"
   ],
   "metadata": {
    "collapsed": false
   }
  },
  {
   "cell_type": "code",
   "execution_count": 9,
   "outputs": [],
   "source": [],
   "metadata": {
    "collapsed": false
   }
  }
 ],
 "metadata": {
  "kernelspec": {
   "display_name": "Python 3",
   "language": "python",
   "name": "python3"
  },
  "language_info": {
   "codemirror_mode": {
    "name": "ipython",
    "version": 2
   },
   "file_extension": ".py",
   "mimetype": "text/x-python",
   "name": "python",
   "nbconvert_exporter": "python",
   "pygments_lexer": "ipython2",
   "version": "2.7.6"
  }
 },
 "nbformat": 4,
 "nbformat_minor": 0
}
