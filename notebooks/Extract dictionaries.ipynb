{
 "cells": [
  {
   "cell_type": "code",
   "execution_count": 75,
   "id": "6aa991cc",
   "metadata": {
    "ExecuteTime": {
     "end_time": "2022-10-03T21:56:53.302981Z",
     "start_time": "2022-10-03T21:56:53.292222Z"
    }
   },
   "outputs": [],
   "source": [
    "import requests\n",
    "import pickle\n",
    "import nltk\n",
    "from nltk.tokenize import word_tokenize\n",
    "from bs4 import BeautifulSoup"
   ]
  },
  {
   "cell_type": "code",
   "execution_count": 81,
   "id": "c6541b98",
   "metadata": {
    "ExecuteTime": {
     "end_time": "2022-10-03T22:01:56.601670Z",
     "start_time": "2022-10-03T22:01:56.161542Z"
    }
   },
   "outputs": [],
   "source": [
    "URL = \"https://www.learnthat.org/word_lists/view/15183\"\n",
    "page = requests.get(URL)\n",
    "soup = BeautifulSoup(page.content, \"html.parser\")\n",
    "raw = soup.select(\".chapter_words\")\n",
    "words_raw = \"\"\n",
    "for words in raw:\n",
    "    words_raw += words.text\n",
    "dictionary = set(word_tokenize(words_raw))"
   ]
  },
  {
   "cell_type": "markdown",
   "id": "8548afe8",
   "metadata": {},
   "source": [
    "Dump the pickle file:"
   ]
  },
  {
   "cell_type": "code",
   "execution_count": 89,
   "id": "c56df5c1",
   "metadata": {
    "ExecuteTime": {
     "end_time": "2022-10-03T22:04:45.437943Z",
     "start_time": "2022-10-03T22:04:45.404451Z"
    }
   },
   "outputs": [],
   "source": [
    "with open('simple_dict.txt', 'wb') as file:\n",
    "    pickle.dump(dictionary, file)"
   ]
  },
  {
   "cell_type": "markdown",
   "id": "19183ab2",
   "metadata": {},
   "source": [
    "Load the pickle file:"
   ]
  },
  {
   "cell_type": "code",
   "execution_count": 90,
   "id": "2c34be05",
   "metadata": {
    "ExecuteTime": {
     "end_time": "2022-10-03T22:04:46.831055Z",
     "start_time": "2022-10-03T22:04:46.813306Z"
    }
   },
   "outputs": [],
   "source": [
    "with open(\"simple_dict.txt\",\"rb\") as file:\n",
    "    d = pickle.load(file)"
   ]
  }
 ],
 "metadata": {
  "kernelspec": {
   "display_name": "Python 3 (ipykernel)",
   "language": "python",
   "name": "python3"
  },
  "language_info": {
   "codemirror_mode": {
    "name": "ipython",
    "version": 3
   },
   "file_extension": ".py",
   "mimetype": "text/x-python",
   "name": "python",
   "nbconvert_exporter": "python",
   "pygments_lexer": "ipython3",
   "version": "3.9.12"
  },
  "toc": {
   "base_numbering": 1,
   "nav_menu": {},
   "number_sections": true,
   "sideBar": true,
   "skip_h1_title": false,
   "title_cell": "Table of Contents",
   "title_sidebar": "Contents",
   "toc_cell": false,
   "toc_position": {},
   "toc_section_display": true,
   "toc_window_display": false
  }
 },
 "nbformat": 4,
 "nbformat_minor": 5
}
